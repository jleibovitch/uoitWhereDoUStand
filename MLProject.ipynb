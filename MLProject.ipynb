{
 "cells": [
  {
   "cell_type": "code",
   "execution_count": 1228,
   "metadata": {
    "collapsed": true
   },
   "outputs": [],
   "source": [
    "import numpy as np\n",
    "import pandas as pd\n",
    "import sklearn as sk\n",
    "from sklearn.linear_model import LogisticRegression\n",
    "from sklearn.svm import SVC\n",
    "from sklearn.naive_bayes import GaussianNB\n",
    "from sklearn.svm.libsvm import predict\n",
    "from sklearn.ensemble import RandomForestClassifier\n",
    "from sklearn.model_selection import train_test_split\n",
    "from sklearn.preprocessing import StandardScaler, RobustScaler, MinMaxScaler\n",
    "from sklearn.metrics import classification_report, accuracy_score"
   ]
  },
  {
   "cell_type": "code",
   "execution_count": 1229,
   "metadata": {
    "collapsed": true
   },
   "outputs": [],
   "source": [
    "yearOne = pd.read_csv('normal_y1_gpa.csv')\n",
    "#yearTwo = pd.read_csv('y2_gpa.csv')"
   ]
  },
  {
   "cell_type": "code",
   "execution_count": 1230,
   "metadata": {},
   "outputs": [
    {
     "data": {
      "text/html": [
       "<div>\n",
       "<style>\n",
       "    .dataframe thead tr:only-child th {\n",
       "        text-align: right;\n",
       "    }\n",
       "\n",
       "    .dataframe thead th {\n",
       "        text-align: left;\n",
       "    }\n",
       "\n",
       "    .dataframe tbody tr th {\n",
       "        vertical-align: top;\n",
       "    }\n",
       "</style>\n",
       "<table border=\"1\" class=\"dataframe\">\n",
       "  <thead>\n",
       "    <tr style=\"text-align: right;\">\n",
       "      <th></th>\n",
       "      <th>course1</th>\n",
       "      <th>course2</th>\n",
       "      <th>course3</th>\n",
       "      <th>course4</th>\n",
       "      <th>course5</th>\n",
       "      <th>course6</th>\n",
       "      <th>course7</th>\n",
       "      <th>course8</th>\n",
       "      <th>course9</th>\n",
       "      <th>course10</th>\n",
       "      <th>course11</th>\n",
       "      <th>course12</th>\n",
       "      <th>gpa</th>\n",
       "    </tr>\n",
       "  </thead>\n",
       "  <tbody>\n",
       "    <tr>\n",
       "      <th>0</th>\n",
       "      <td>2.83</td>\n",
       "      <td>3.29</td>\n",
       "      <td>2.55</td>\n",
       "      <td>1.78</td>\n",
       "      <td>2.24</td>\n",
       "      <td>3.44</td>\n",
       "      <td>2.23</td>\n",
       "      <td>3.23</td>\n",
       "      <td>2.79</td>\n",
       "      <td>2.10</td>\n",
       "      <td>3.20</td>\n",
       "      <td>2.79</td>\n",
       "      <td>2.61</td>\n",
       "    </tr>\n",
       "    <tr>\n",
       "      <th>1</th>\n",
       "      <td>2.44</td>\n",
       "      <td>2.97</td>\n",
       "      <td>2.82</td>\n",
       "      <td>3.31</td>\n",
       "      <td>2.03</td>\n",
       "      <td>3.70</td>\n",
       "      <td>3.38</td>\n",
       "      <td>2.57</td>\n",
       "      <td>2.90</td>\n",
       "      <td>3.17</td>\n",
       "      <td>3.44</td>\n",
       "      <td>1.98</td>\n",
       "      <td>2.84</td>\n",
       "    </tr>\n",
       "    <tr>\n",
       "      <th>2</th>\n",
       "      <td>2.75</td>\n",
       "      <td>3.19</td>\n",
       "      <td>3.41</td>\n",
       "      <td>2.44</td>\n",
       "      <td>1.98</td>\n",
       "      <td>2.36</td>\n",
       "      <td>2.65</td>\n",
       "      <td>3.90</td>\n",
       "      <td>3.77</td>\n",
       "      <td>2.32</td>\n",
       "      <td>3.18</td>\n",
       "      <td>2.51</td>\n",
       "      <td>2.94</td>\n",
       "    </tr>\n",
       "    <tr>\n",
       "      <th>3</th>\n",
       "      <td>2.48</td>\n",
       "      <td>3.09</td>\n",
       "      <td>2.73</td>\n",
       "      <td>1.31</td>\n",
       "      <td>2.33</td>\n",
       "      <td>3.35</td>\n",
       "      <td>2.23</td>\n",
       "      <td>2.92</td>\n",
       "      <td>3.03</td>\n",
       "      <td>2.60</td>\n",
       "      <td>2.66</td>\n",
       "      <td>2.09</td>\n",
       "      <td>2.33</td>\n",
       "    </tr>\n",
       "    <tr>\n",
       "      <th>4</th>\n",
       "      <td>2.09</td>\n",
       "      <td>2.82</td>\n",
       "      <td>3.20</td>\n",
       "      <td>2.60</td>\n",
       "      <td>1.91</td>\n",
       "      <td>2.42</td>\n",
       "      <td>2.95</td>\n",
       "      <td>2.82</td>\n",
       "      <td>1.88</td>\n",
       "      <td>2.17</td>\n",
       "      <td>2.76</td>\n",
       "      <td>3.93</td>\n",
       "      <td>2.91</td>\n",
       "    </tr>\n",
       "  </tbody>\n",
       "</table>\n",
       "</div>"
      ],
      "text/plain": [
       "   course1  course2  course3  course4  course5  course6  course7  course8  \\\n",
       "0     2.83     3.29     2.55     1.78     2.24     3.44     2.23     3.23   \n",
       "1     2.44     2.97     2.82     3.31     2.03     3.70     3.38     2.57   \n",
       "2     2.75     3.19     3.41     2.44     1.98     2.36     2.65     3.90   \n",
       "3     2.48     3.09     2.73     1.31     2.33     3.35     2.23     2.92   \n",
       "4     2.09     2.82     3.20     2.60     1.91     2.42     2.95     2.82   \n",
       "\n",
       "   course9  course10  course11  course12   gpa  \n",
       "0     2.79      2.10      3.20      2.79  2.61  \n",
       "1     2.90      3.17      3.44      1.98  2.84  \n",
       "2     3.77      2.32      3.18      2.51  2.94  \n",
       "3     3.03      2.60      2.66      2.09  2.33  \n",
       "4     1.88      2.17      2.76      3.93  2.91  "
      ]
     },
     "execution_count": 1230,
     "metadata": {},
     "output_type": "execute_result"
    }
   ],
   "source": [
    "del yearOne['Unnamed: 0']\n",
    "#del yearTwo['Unnamed: 0']\n",
    "del yearOne['hashedID']\n",
    "yearOne.head()"
   ]
  },
  {
   "cell_type": "code",
   "execution_count": 1231,
   "metadata": {
    "collapsed": true
   },
   "outputs": [],
   "source": [
    "#del yearOne['hashedID']"
   ]
  },
  {
   "cell_type": "code",
   "execution_count": 1232,
   "metadata": {
    "collapsed": true
   },
   "outputs": [],
   "source": [
    "# def calc_gpa(row):\n",
    "#     data = [r for r in row]\n",
    "#     print(data)\n",
    "#     return np.round(np.mean(data), 2)"
   ]
  },
  {
   "cell_type": "code",
   "execution_count": 1233,
   "metadata": {
    "collapsed": true
   },
   "outputs": [],
   "source": [
    "# yearOne['gpa'] = yearOne.iloc[0:10].apply(calc_gpa, axis=1)"
   ]
  },
  {
   "cell_type": "code",
   "execution_count": 1234,
   "metadata": {
    "collapsed": true
   },
   "outputs": [],
   "source": [
    "#yearOne.head()"
   ]
  },
  {
   "cell_type": "code",
   "execution_count": 1235,
   "metadata": {
    "collapsed": true
   },
   "outputs": [],
   "source": [
    "def gpa_cat(gpa):\n",
    "    if 0 <= gpa <= 2.7:\n",
    "        return 0 \n",
    "    elif 2.7 < gpa <= 3.0:\n",
    "        return 1\n",
    "    else:\n",
    "        return 2"
   ]
  },
  {
   "cell_type": "code",
   "execution_count": 1236,
   "metadata": {
    "collapsed": true
   },
   "outputs": [],
   "source": [
    "yearOne['gpa'] = yearOne['gpa'].apply(gpa_cat)"
   ]
  },
  {
   "cell_type": "code",
   "execution_count": 1237,
   "metadata": {},
   "outputs": [
    {
     "data": {
      "text/html": [
       "<div>\n",
       "<style>\n",
       "    .dataframe thead tr:only-child th {\n",
       "        text-align: right;\n",
       "    }\n",
       "\n",
       "    .dataframe thead th {\n",
       "        text-align: left;\n",
       "    }\n",
       "\n",
       "    .dataframe tbody tr th {\n",
       "        vertical-align: top;\n",
       "    }\n",
       "</style>\n",
       "<table border=\"1\" class=\"dataframe\">\n",
       "  <thead>\n",
       "    <tr style=\"text-align: right;\">\n",
       "      <th></th>\n",
       "      <th>course1</th>\n",
       "      <th>course2</th>\n",
       "      <th>course3</th>\n",
       "      <th>course4</th>\n",
       "      <th>course5</th>\n",
       "      <th>course6</th>\n",
       "      <th>course7</th>\n",
       "      <th>course8</th>\n",
       "      <th>course9</th>\n",
       "      <th>course10</th>\n",
       "      <th>course11</th>\n",
       "      <th>course12</th>\n",
       "      <th>gpa</th>\n",
       "    </tr>\n",
       "  </thead>\n",
       "  <tbody>\n",
       "    <tr>\n",
       "      <th>0</th>\n",
       "      <td>2.83</td>\n",
       "      <td>3.29</td>\n",
       "      <td>2.55</td>\n",
       "      <td>1.78</td>\n",
       "      <td>2.24</td>\n",
       "      <td>3.44</td>\n",
       "      <td>2.23</td>\n",
       "      <td>3.23</td>\n",
       "      <td>2.79</td>\n",
       "      <td>2.10</td>\n",
       "      <td>3.20</td>\n",
       "      <td>2.79</td>\n",
       "      <td>0</td>\n",
       "    </tr>\n",
       "    <tr>\n",
       "      <th>1</th>\n",
       "      <td>2.44</td>\n",
       "      <td>2.97</td>\n",
       "      <td>2.82</td>\n",
       "      <td>3.31</td>\n",
       "      <td>2.03</td>\n",
       "      <td>3.70</td>\n",
       "      <td>3.38</td>\n",
       "      <td>2.57</td>\n",
       "      <td>2.90</td>\n",
       "      <td>3.17</td>\n",
       "      <td>3.44</td>\n",
       "      <td>1.98</td>\n",
       "      <td>1</td>\n",
       "    </tr>\n",
       "    <tr>\n",
       "      <th>2</th>\n",
       "      <td>2.75</td>\n",
       "      <td>3.19</td>\n",
       "      <td>3.41</td>\n",
       "      <td>2.44</td>\n",
       "      <td>1.98</td>\n",
       "      <td>2.36</td>\n",
       "      <td>2.65</td>\n",
       "      <td>3.90</td>\n",
       "      <td>3.77</td>\n",
       "      <td>2.32</td>\n",
       "      <td>3.18</td>\n",
       "      <td>2.51</td>\n",
       "      <td>1</td>\n",
       "    </tr>\n",
       "    <tr>\n",
       "      <th>3</th>\n",
       "      <td>2.48</td>\n",
       "      <td>3.09</td>\n",
       "      <td>2.73</td>\n",
       "      <td>1.31</td>\n",
       "      <td>2.33</td>\n",
       "      <td>3.35</td>\n",
       "      <td>2.23</td>\n",
       "      <td>2.92</td>\n",
       "      <td>3.03</td>\n",
       "      <td>2.60</td>\n",
       "      <td>2.66</td>\n",
       "      <td>2.09</td>\n",
       "      <td>0</td>\n",
       "    </tr>\n",
       "    <tr>\n",
       "      <th>4</th>\n",
       "      <td>2.09</td>\n",
       "      <td>2.82</td>\n",
       "      <td>3.20</td>\n",
       "      <td>2.60</td>\n",
       "      <td>1.91</td>\n",
       "      <td>2.42</td>\n",
       "      <td>2.95</td>\n",
       "      <td>2.82</td>\n",
       "      <td>1.88</td>\n",
       "      <td>2.17</td>\n",
       "      <td>2.76</td>\n",
       "      <td>3.93</td>\n",
       "      <td>1</td>\n",
       "    </tr>\n",
       "  </tbody>\n",
       "</table>\n",
       "</div>"
      ],
      "text/plain": [
       "   course1  course2  course3  course4  course5  course6  course7  course8  \\\n",
       "0     2.83     3.29     2.55     1.78     2.24     3.44     2.23     3.23   \n",
       "1     2.44     2.97     2.82     3.31     2.03     3.70     3.38     2.57   \n",
       "2     2.75     3.19     3.41     2.44     1.98     2.36     2.65     3.90   \n",
       "3     2.48     3.09     2.73     1.31     2.33     3.35     2.23     2.92   \n",
       "4     2.09     2.82     3.20     2.60     1.91     2.42     2.95     2.82   \n",
       "\n",
       "   course9  course10  course11  course12  gpa  \n",
       "0     2.79      2.10      3.20      2.79    0  \n",
       "1     2.90      3.17      3.44      1.98    1  \n",
       "2     3.77      2.32      3.18      2.51    1  \n",
       "3     3.03      2.60      2.66      2.09    0  \n",
       "4     1.88      2.17      2.76      3.93    1  "
      ]
     },
     "execution_count": 1237,
     "metadata": {},
     "output_type": "execute_result"
    }
   ],
   "source": [
    "yearOne.head()"
   ]
  },
  {
   "cell_type": "code",
   "execution_count": 1238,
   "metadata": {
    "collapsed": true
   },
   "outputs": [],
   "source": [
    "#yearOne.tail()"
   ]
  },
  {
   "cell_type": "code",
   "execution_count": 1239,
   "metadata": {},
   "outputs": [
    {
     "data": {
      "text/plain": [
       "array([0, 1, 2])"
      ]
     },
     "execution_count": 1239,
     "metadata": {},
     "output_type": "execute_result"
    }
   ],
   "source": [
    "np.unique(yearOne['gpa'])"
   ]
  },
  {
   "cell_type": "code",
   "execution_count": 1240,
   "metadata": {
    "collapsed": true
   },
   "outputs": [],
   "source": [
    "X = yearOne.drop('gpa', axis=1)\n",
    "y = yearOne['gpa']"
   ]
  },
  {
   "cell_type": "code",
   "execution_count": 1241,
   "metadata": {
    "collapsed": true
   },
   "outputs": [],
   "source": [
    "xTrain, xTest, yTrain, yTest = train_test_split(X, y, test_size=0.40, random_state=42)"
   ]
  },
  {
   "cell_type": "code",
   "execution_count": 1242,
   "metadata": {
    "collapsed": true,
    "scrolled": true
   },
   "outputs": [],
   "source": [
    "scaler = StandardScaler()\n",
    "xScaled = scaler.fit_transform(xTrain)"
   ]
  },
  {
   "cell_type": "code",
   "execution_count": 1243,
   "metadata": {},
   "outputs": [
    {
     "data": {
      "text/plain": [
       "SVC(C=1.0, cache_size=200, class_weight=None, coef0=0.0,\n",
       "  decision_function_shape='ovr', degree=3, gamma='auto', kernel='rbf',\n",
       "  max_iter=-1, probability=False, random_state=None, shrinking=True,\n",
       "  tol=0.001, verbose=False)"
      ]
     },
     "execution_count": 1243,
     "metadata": {},
     "output_type": "execute_result"
    }
   ],
   "source": [
    "svmmodel = SVC()\n",
    "svmmodel.fit(xScaled, yTrain)"
   ]
  },
  {
   "cell_type": "code",
   "execution_count": 1244,
   "metadata": {
    "collapsed": true
   },
   "outputs": [],
   "source": [
    "xScaledTest = scaler.transform(xTest)\n",
    "predictions = svmmodel.predict(xScaledTest)"
   ]
  },
  {
   "cell_type": "code",
   "execution_count": 1245,
   "metadata": {},
   "outputs": [
    {
     "name": "stdout",
     "output_type": "stream",
     "text": [
      "             precision    recall  f1-score   support\n",
      "\n",
      "          0       0.88      0.70      0.78      1280\n",
      "          1       0.72      0.92      0.81      2080\n",
      "          2       0.85      0.45      0.58       640\n",
      "\n",
      "avg / total       0.79      0.77      0.76      4000\n",
      "\n",
      "Accuracy: 0.773\n"
     ]
    }
   ],
   "source": [
    "print(classification_report(yTest, predictions))\n",
    "print(\"Accuracy: {}\".format(accuracy_score(yTest, predictions)))"
   ]
  },
  {
   "cell_type": "code",
   "execution_count": 1246,
   "metadata": {
    "collapsed": true
   },
   "outputs": [],
   "source": [
    "newData = pd.DataFrame({\n",
    "        #'hashedID':[1111], \n",
    "        'course1':[2.83],\n",
    "        'course2':[3.29], \n",
    "        'course3':[2.55],\n",
    "        'course4':[1.78],\n",
    "        'course5':[2.24], \n",
    "        'course6':[3.44], \n",
    "        'course7':[2.23],\n",
    "        'course8':[3.23],\n",
    "        'course9':[2.79],\n",
    "        'course10':[2.1],  \n",
    "        'course11':[3.2],\n",
    "        'course12':[2.79]\n",
    "})"
   ]
  },
  {
   "cell_type": "code",
   "execution_count": 1247,
   "metadata": {},
   "outputs": [
    {
     "name": "stdout",
     "output_type": "stream",
     "text": [
      "[1]\n"
     ]
    }
   ],
   "source": [
    "testScale = scaler.transform(newData)\n",
    "predictions = svmmodel.predict(testScale)\n",
    "print(predictions)"
   ]
  },
  {
   "cell_type": "code",
   "execution_count": 1248,
   "metadata": {
    "collapsed": true
   },
   "outputs": [],
   "source": [
    "newData2 = pd.DataFrame({\n",
    "        #'hashedID':[2222], \n",
    "        'course1':[3.34],\n",
    "        'course2':[3.22], \n",
    "        'course3':[3.89],\n",
    "        'course4':[3.99],\n",
    "        'course5':[3.37], \n",
    "        'course6':[3.67], \n",
    "        'course7':[3.98],\n",
    "        'course8':[3.22],\n",
    "        'course9':[3.12],\n",
    "        'course10':[3.47],  \n",
    "        'course11':[3.90],\n",
    "        'course12':[3.37]\n",
    "})"
   ]
  },
  {
   "cell_type": "code",
   "execution_count": 1249,
   "metadata": {},
   "outputs": [
    {
     "name": "stdout",
     "output_type": "stream",
     "text": [
      "[2]\n"
     ]
    }
   ],
   "source": [
    "testScale2 = scaler.transform(newData2)\n",
    "predictions2 = svmmodel.predict(testScale2)\n",
    "print(predictions2)"
   ]
  },
  {
   "cell_type": "code",
   "execution_count": 1250,
   "metadata": {
    "collapsed": true
   },
   "outputs": [],
   "source": [
    "newData3 = pd.DataFrame({\n",
    "        #'hashedID':[2222], \n",
    "        'course1':[0.34],\n",
    "        'course2':[1.27], \n",
    "        'course3':[2.2],\n",
    "        'course4':[0.0],\n",
    "        'course5':[0.34], \n",
    "        'course6':[0.34], \n",
    "        'course7':[0.34],\n",
    "        'course8':[0.34],\n",
    "        'course9':[0.34],\n",
    "        'course10':[0.34],  \n",
    "        'course11':[0.34],\n",
    "        'course12':[0.34]\n",
    "})"
   ]
  },
  {
   "cell_type": "code",
   "execution_count": 1251,
   "metadata": {},
   "outputs": [
    {
     "name": "stdout",
     "output_type": "stream",
     "text": [
      "[1]\n"
     ]
    }
   ],
   "source": [
    "testScale3 = scaler.transform(newData3)\n",
    "predictions3 = svmmodel.predict(testScale3)\n",
    "print(predictions3)"
   ]
  },
  {
   "cell_type": "code",
   "execution_count": null,
   "metadata": {},
   "outputs": [],
   "source": []
  },
  {
   "cell_type": "code",
   "execution_count": null,
   "metadata": {
    "collapsed": true
   },
   "outputs": [],
   "source": []
  }
 ],
 "metadata": {
  "kernelspec": {
   "display_name": "Python 3",
   "language": "python",
   "name": "python3"
  },
  "language_info": {
   "codemirror_mode": {
    "name": "ipython",
    "version": 3
   },
   "file_extension": ".py",
   "mimetype": "text/x-python",
   "name": "python",
   "nbconvert_exporter": "python",
   "pygments_lexer": "ipython3",
   "version": "3.6.3"
  }
 },
 "nbformat": 4,
 "nbformat_minor": 2
}
